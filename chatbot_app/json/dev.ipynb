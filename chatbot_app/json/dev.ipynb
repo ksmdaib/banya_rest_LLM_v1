{
 "cells": [
  {
   "cell_type": "code",
   "execution_count": 2,
   "metadata": {},
   "outputs": [
    {
     "name": "stdout",
     "output_type": "stream",
     "text": [
      "ab\n"
     ]
    }
   ],
   "source": [
    "print('ab')"
   ]
  },
  {
   "cell_type": "code",
   "execution_count": 3,
   "metadata": {},
   "outputs": [],
   "source": [
    "import json\n",
    "\n",
    "# MICE_mate_knowledge_base 데이터를 JSON 파일로 저장\n",
    "MICE_mate_knowledge_base = {\n",
    "    \"마이스 메이트 플랫폼은 무엇이 다른가요?\": \"마이스 메이트는 모든 행사를 모아 기업과 고객이 인공지능 기술을 통해 만나고 최적의 이벤트와 고객을 연결할 수 있도록 도와주는 플랫폼입니다.\",\n",
    "    \"Ai 맞춤형 행사가 어떻게 추천되나요?\": \"고객의 관심사, 과거 참여 기록, 프로필 데이터를 분석한 Ai 알고리즘이 최적의 행사를 추천합니다.\",\n",
    "    \"기업회원은 어떻게 가입하나요?\": \"홈페이지 우측 상단 행사 등록하기를 통해 기본 정보로 회원가입/ 기업 정보를 입력하여 가입하실 수 있습니다. 가입의 심사는 영업일 기준 1-2일 정도 소요됩니다.\",\n",
    "    \"이용 요금은 어떻게 되나요?\": \"마이스메이트의 모든 기능은 기본으로 무료제공되며, 추가 광고, 홍보가 필요할 시 유료 이용가능합니다. 상세 내용은 프로모션 페이지를 참고해주세요.\",\n",
    "    \"MICE 행사를 어떻게 등록하나요?\": \"행사등록하기 페이지를 통해 등록하고자 하는 행사 정보를 입력하고 게시합니다. 등록시 유효한 행사인지 확인을 위한 심사기간이 1-2일 정도 소요됩니다.\"\n",
    "}\n",
    "\n",
    "# JSON 파일로 저장\n",
    "with open(\"MICE_mate_knowledge_base.json\", \"w\", encoding=\"utf-8\") as file:\n",
    "    json.dump(MICE_mate_knowledge_base, file, ensure_ascii=False, indent=4)\n"
   ]
  },
  {
   "cell_type": "code",
   "execution_count": null,
   "metadata": {},
   "outputs": [],
   "source": []
  }
 ],
 "metadata": {
  "kernelspec": {
   "display_name": "base",
   "language": "python",
   "name": "python3"
  },
  "language_info": {
   "codemirror_mode": {
    "name": "ipython",
    "version": 3
   },
   "file_extension": ".py",
   "mimetype": "text/x-python",
   "name": "python",
   "nbconvert_exporter": "python",
   "pygments_lexer": "ipython3",
   "version": "3.12.7"
  }
 },
 "nbformat": 4,
 "nbformat_minor": 2
}
